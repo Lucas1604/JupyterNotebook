{
 "cells": [
  {
   "cell_type": "code",
   "execution_count": 4,
   "metadata": {},
   "outputs": [
    {
     "data": {
      "application/vnd.jupyter.widget-view+json": {
       "model_id": "76de160a06b7473d9605df7b704057f1",
       "version_major": 2,
       "version_minor": 0
      },
      "text/plain": [
       "Label(value='Numero 1: ')"
      ]
     },
     "metadata": {},
     "output_type": "display_data"
    },
    {
     "data": {
      "application/vnd.jupyter.widget-view+json": {
       "model_id": "79abbe33d0b249a79e1f219d9540f488",
       "version_major": 2,
       "version_minor": 0
      },
      "text/plain": [
       "Text(value='')"
      ]
     },
     "metadata": {},
     "output_type": "display_data"
    },
    {
     "data": {
      "application/vnd.jupyter.widget-view+json": {
       "model_id": "5bed8f8230434f62b87c278557cf018e",
       "version_major": 2,
       "version_minor": 0
      },
      "text/plain": [
       "Label(value='Numero 2: ')"
      ]
     },
     "metadata": {},
     "output_type": "display_data"
    },
    {
     "data": {
      "application/vnd.jupyter.widget-view+json": {
       "model_id": "fa806db1051d45c699cc263ffe55d023",
       "version_major": 2,
       "version_minor": 0
      },
      "text/plain": [
       "Text(value='')"
      ]
     },
     "metadata": {},
     "output_type": "display_data"
    },
    {
     "data": {
      "application/vnd.jupyter.widget-view+json": {
       "model_id": "50b4f7da6e9149e1a22f2d0e5806ae70",
       "version_major": 2,
       "version_minor": 0
      },
      "text/plain": [
       "Button(description='Multiplicação', style=ButtonStyle())"
      ]
     },
     "metadata": {},
     "output_type": "display_data"
    },
    {
     "data": {
      "application/vnd.jupyter.widget-view+json": {
       "model_id": "ad0039a131e748b9b078771432d4f2ac",
       "version_major": 2,
       "version_minor": 0
      },
      "text/plain": [
       "Label(value='Resultado: ')"
      ]
     },
     "metadata": {},
     "output_type": "display_data"
    }
   ],
   "source": [
    "from ipywidgets import widgets\n",
    "l1 = widgets.Label('Numero 1: ')\n",
    "l2 = widgets.Label('Numero 2: ')\n",
    "l3 = widgets.Label('Resultado: ')\n",
    "t1 = widgets.Text()\n",
    "t2 = widgets.Text()\n",
    "btn = widgets.Button(description='Multiplicação')\n",
    "\n",
    "def mult(b):\n",
    "    x = int(t1.value)\n",
    "    y = int(t2.value)\n",
    "    l3.value = 'Resultado: ' + str(x*y)\n",
    "btn.on_click(mult)\n",
    "\n",
    "display(l1, t1, l2, t2, btn, l3)\n"
   ]
  },
  {
   "cell_type": "code",
   "execution_count": null,
   "metadata": {},
   "outputs": [],
   "source": []
  }
 ],
 "metadata": {
  "kernelspec": {
   "display_name": "Python 3",
   "language": "python",
   "name": "python3"
  },
  "language_info": {
   "codemirror_mode": {
    "name": "ipython",
    "version": 3
   },
   "file_extension": ".py",
   "mimetype": "text/x-python",
   "name": "python",
   "nbconvert_exporter": "python",
   "pygments_lexer": "ipython3",
   "version": "3.8.4"
  }
 },
 "nbformat": 4,
 "nbformat_minor": 4
}
